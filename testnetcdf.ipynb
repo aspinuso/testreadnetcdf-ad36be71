{
 "cells": [
  {
   "cell_type": "code",
   "execution_count": 7,
   "id": "017761c4-cdf8-48a7-b825-c14930ca55f3",
   "metadata": {
    "tags": []
   },
   "outputs": [
    {
     "name": "stdout",
     "output_type": "stream",
     "text": [
      "<class 'netCDF4._netCDF4.Dataset'>\n",
      "root group (NETCDF4_CLASSIC data model, file format HDF5):\n",
      "    Conventions: CF-1.7 CMIP-6.2\n",
      "    activity_id: ScenarioMIP\n",
      "    branch_method: standard\n",
      "    branch_time: 0.0\n",
      "    comment: Production: Thomas Reerink at KNMI\n",
      "    contact: cmip6-data@ec-earth.org\n",
      "    creation_date: 2019-09-27T17:11:36Z\n",
      "    data_specs_version: 01.00.31\n",
      "    experiment: update of RCP8.5 based on SSP5\n",
      "    experiment_id: ssp585\n",
      "    external_variables: areacella\n",
      "    forcing_index: 1\n",
      "    frequency: day\n",
      "    further_info_url: https://furtherinfo.es-doc.org/CMIP6.EC-Earth-Consortium.EC-Earth3.ssp585.none.r1i1p1f1\n",
      "    grid: T255L91\n",
      "    grid_label: gr\n",
      "    initialization_index: 1\n",
      "    institution: AEMET, Spain; BSC, Spain; CNR-ISAC, Italy; DMI, Denmark; ENEA, Italy; FMI, Finland; Geomar, Germany; ICHEC, Ireland; ICTP, Italy; IDL, Portugal; IMAU, The Netherlands; IPMA, Portugal; KIT, Karlsruhe, Germany; KNMI, The Netherlands; Lund University, Sweden; Met Eireann, Ireland; NLeSC, The Netherlands; NTNU, Norway; Oxford University, UK; surfSARA, The Netherlands; SMHI, Sweden; Stockholm University, Sweden; Unite ASTR, Belgium; University College Dublin, Ireland; University of Bergen, Norway; University of Copenhagen, Denmark; University of Helsinki, Finland; University of Santiago de Compostela, Spain; Uppsala University, Sweden; Utrecht University, The Netherlands; Vrije Universiteit Amsterdam, the Netherlands; Wageningen University, The Netherlands. Mailing address: EC-Earth consortium, Rossby Center, Swedish Meteorological and Hydrological Institute/SMHI, SE-601 76 Norrkoping, Sweden\n",
      "    institution_id: EC-Earth-Consortium\n",
      "    mip_era: CMIP6\n",
      "    nominal_resolution: 100 km\n",
      "    parent_activity_id: CMIP\n",
      "    parent_experiment_id: historical\n",
      "    parent_mip_era: CMIP6\n",
      "    parent_source_id: EC-Earth3\n",
      "    parent_time_units: days since 1850-01-01\n",
      "    parent_variant_label: r1i1p1f1\n",
      "    physics_index: 1\n",
      "    product: model-output\n",
      "    realization_index: 1\n",
      "    realm: atmos\n",
      "    source: EC-Earth3 (2019): \n",
      "aerosol: none\n",
      "atmos: IFS cy36r4 (TL255, linearly reduced Gaussian grid equivalent to 512 x 256 longitude/latitude; 91 levels; top level 0.01 hPa)\n",
      "atmosChem: none\n",
      "land: HTESSEL (land surface scheme built in IFS)\n",
      "landIce: none\n",
      "ocean: NEMO3.6 (ORCA1 tripolar primarily 1 deg with meridional refinement down to 1/3 degree in the tropics; 362 x 292 longitude/latitude; 75 levels; top grid cell 0-1 m)\n",
      "ocnBgchem: none\n",
      "seaIce: LIM3\n",
      "    source_id: EC-Earth3\n",
      "    source_type: AOGCM\n",
      "    sub_experiment: none\n",
      "    sub_experiment_id: none\n",
      "    table_id: day\n",
      "    table_info: Creation Date:(24 July 2019) MD5:70649eeb16bc90c431e35b583fac7375\n",
      "    title: EC-Earth3 output prepared for CMIP6\n",
      "    variable_id: tasmax\n",
      "    variant_label: r1i1p1f1\n",
      "    license: CMIP6 model data produced by EC-Earth-Consortium is licensed under a Creative Commons Attribution-ShareAlike 4.0 International License (https://creativecommons.org/licenses). Consult https://pcmdi.llnl.gov/CMIP6/TermsOfUse for terms of use governing CMIP6 output, including citation requirements and proper acknowledgment. Further information about this data, including some limitations, can be found via the further_info_url (recorded as a global attribute in this file) and at http://www.ec-earth.org. The data producers and data providers make no warranty, either express or implied, including, but not limited to, warranties of merchantability and fitness for a particular purpose. All liabilities arising from the supply of the information (including any liability arising in negligence) are excluded to the fullest extent permitted by law.\n",
      "    cmor_version: 3.5.0\n",
      "    tracking_id: hdl:21.14100/d7dd7fd2-510e-4fde-b6be-b18f4aee6e95\n",
      "    branch_time_in_child: 60265.0D\n",
      "    branch_time_in_parent: 60265.0D\n",
      "    history: 2019-09-27T17:08:49Z ; CMOR rewrote data to be consistent with CMIP6, CF-1.7 CMIP-6.2 and CF standards.;\n",
      "processed by ece2cmor v1.2.1, git rev. 7890ca3ca4ab14f8b6d06f1ee6e882997d0ffa1f-changes\n",
      "The cmor-fixer version v2.0 script has been applied.The cmor-fixer version v2.1 script has been applied.\n",
      "    dimensions(sizes): time(365), lat(256), lon(512), bnds(2)\n",
      "    variables(dimensions): float64 time(time), float64 time_bnds(time, bnds), float64 lat(lat), float64 lat_bnds(lat, bnds), float64 lon(lon), float64 lon_bnds(lon, bnds), float64 height(), float32 tasmax(time, lat, lon)\n",
      "    groups: \n"
     ]
    }
   ],
   "source": [
    "import netCDF4\n",
    "import numpy as np\n",
    "\n",
    "\n",
    "f = netCDF4.Dataset('./data/latest/tasmax_day_EC-Earth3_ssp585_r1i1p1f1_gr_20150101-20151231.nc')\n",
    "print(f)"
   ]
  },
  {
   "cell_type": "code",
   "execution_count": null,
   "id": "efe5e7d1-b1c1-4810-8bc6-666c8e448eb7",
   "metadata": {},
   "outputs": [],
   "source": []
  }
 ],
 "metadata": {
  "kernelspec": {
   "display_name": "Python 3 (ipykernel)",
   "language": "python",
   "name": "python3"
  },
  "language_info": {
   "codemirror_mode": {
    "name": "ipython",
    "version": 3
   },
   "file_extension": ".py",
   "mimetype": "text/x-python",
   "name": "python",
   "nbconvert_exporter": "python",
   "pygments_lexer": "ipython3",
   "version": "3.10.10"
  }
 },
 "nbformat": 4,
 "nbformat_minor": 5
}
